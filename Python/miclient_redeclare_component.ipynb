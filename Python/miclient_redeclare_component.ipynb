{
 "cells": [
  {
   "cell_type": "markdown",
   "metadata": {},
   "source": [
    "<img src=\"data:image/png;base64,iVBORw0KGgoAAAANSUhEUgAABL0AAAAJCAMAAAGXjJ51AAAAAXNSR0IArs4c6QAAAARnQU1BAACxjwv8YQUAAABdUExURfWEAPmUAOl1AOxtAOx+APy/AP+pAOVyAOxlAONtAOZtAOthAO+HAP+jAP/MAPWDAPqZAOhxAOt+AOt/AO1uAP7EAP+mAOVwAOtjAONtAOVtAOphAO+GAP+jAP/MACmLVuoAAAAZdFJOU56epKSkpKSvr7+/v7+/v8PDz8/Pz8/P4+OMRV/xAAAACXBIWXMAAA3+AAAN/gEmzVBtAAABvUlEQVRYR+3Y11bDMAyA4QBllb2hBN7/MYl7/rQeiSxjXeq7jFcsq8pxh6/CeMCDyU9hl3ukYfK94Bd0CWjZY8Wj4bpwe8CDyV1hmzuhYXKz4B50CWjZY8WjMmK8ccATVcB2NAREIUHA3ukS0BKwYKSMGG8c8EQVsC0NAVFIELALugS0BCwYWcixAntI0RYjECLCK4mSNUJoqziZWXxCETrn2JvEMGC8i4iYiOiaYUtVBGrG6Bydc+xN4PGKsTfBQm0t8NtN0Rbh9y+iqojomqGkVFGRZozO0TnH3gSa/FIg+goMkJEF3cjYXssldRmZaobfyYqV+ryCKZU4sD6eXwqeX/9mk18fzFb3wgjRM/Ho9UR+9GI6jQcOx8obibSCVXU+mVPnlRPr4umlwHQanl4JTy8FptPw9Ep4eikwnYanV0Jz16675CZat2GEaMONuNcpt/deTKcxcGu3cs5/BitYVeeKOXXOOLEuRldHE/oaqKeqlipWJdWKVWk20nK9bmD9NbBW+brI2i7+Tdq+VG1MvmsmvHppefUSefVq59Wrk1cvLa9eIq9e7bx6dfLqpeXVS+TVq51Xry7j+AfLrkHOE/LvIgAAAABJRU5ErkJggg==\">"
   ]
  },
  {
   "cell_type": "markdown",
   "metadata": {},
   "source": [
    "<img style='float: right' src=\"data:image/png;base64,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\">"
   ]
  },
  {
   "cell_type": "markdown",
   "metadata": {},
   "source": [
    "# Redeclare component using the Modelon Impact Client Library\n",
    "This notebook will showcase how to redeclare a model component (the wheels in this case) using the [Modelon Impact Client Library](https://modelon-impact-client.readthedocs.io/en/latest/)(MIC)."
   ]
  },
  {
   "cell_type": "markdown",
   "metadata": {},
   "source": [
    "## Approach\n",
    "To showcase how redeclaration can be done, we will perform the following steps:\n",
    "\n",
    "1. Create a client object and authenticate\n",
    "2. Configure analysis\n",
    "3. Run base model and inspect result\n",
    "4. Redeclare the wheel model\n",
    "5. Run tweaked model again and compare results\n",
    "6. Upload external .mo file with wheel model\n",
    "7. Redeclare model to use this for redeclaration\n",
    "8. Run again\n",
    "9. Delete uploaded model\n",
    "\n",
    "Note there are some basic steps that needs to be performed before start using MIC, documentation is linked below:\n",
    "\n",
    "1. Install MIC: https://modelon-impact-client.readthedocs.io/en/latest/install.html\n",
    "2. Authentication: https://modelon-impact-client.readthedocs.io/en/latest/setup.html\n",
    "\n",
    "If you are running Modelon Impact Cloud, MIC is installed by default, so the installation step can be skipped.\n",
    "\n",
    "**Note!** For Modelon Impact 1.2.6, MIC v1.1.0 should be used:"
   ]
  },
  {
   "cell_type": "code",
   "execution_count": null,
   "metadata": {},
   "outputs": [],
   "source": [
    "import sys\n",
    "\n",
    "!{sys.executable} -m pip show modelon-impact-client\n",
    "#!{sys.executable} -m pip install modelon-impact-client==1.1.0"
   ]
  },
  {
   "cell_type": "markdown",
   "metadata": {
    "tags": []
   },
   "source": [
    "## Create a client object and authenticate\n",
    "The client object contains methods to authenticate logins, create new workspaces and\n",
    "upload or fetch existing workspaces\n",
    "\n",
    "The class constructor has two important parameters:\n",
    "   - `url`:\n",
    "       - The URL for Modelon Impact client host. Default is 'http://localhost:8080/', which is used by default for a desktop installation. This is also the URL that should be used if you are using JupyterLab on Modelon Impact Cloud.\n",
    "\n",
    "   - `interactive`:\n",
    "       - Asks you to enter an api_key from the prompt. When the key has been entered the first time, it will be stored in the credentials file to be used in future requests, and the prompt will not be shown again. If the key is changed, the file may be deleted which will cause the prompt to be shown again.\n",
    "\n",
    "In the below cell, a client object is instantiated. Make sure that the URL is pointing towards your Modelon Impact server. When executed, it will also ask for an api key, please go ahead and provide your personal key generated with the API key manager."
   ]
  },
  {
   "cell_type": "code",
   "execution_count": null,
   "metadata": {},
   "outputs": [],
   "source": [
    "from modelon.impact.client import Client\n",
    "\n",
    "client=Client(url=\"http://localhost:8080/\",interactive=True)"
   ]
  },
  {
   "cell_type": "markdown",
   "metadata": {},
   "source": [
    "This api key will be stored in a credentials file named api.key and located in the directory .impact in the user's home folder."
   ]
  },
  {
   "cell_type": "markdown",
   "metadata": {},
   "source": [
    "## Configure analysis\n",
    "\n",
    "In below cell a standard dynamic simulation is setup for the model `Perseverance.Experiments.DrivingCleats`."
   ]
  },
  {
   "cell_type": "code",
   "execution_count": null,
   "metadata": {},
   "outputs": [],
   "source": [
    "model_name = \"Perseverance.Experiments.DrivingCleats\"\n",
    "workspace = client.get_workspace(\"MarsRovers\")\n",
    "analysis = workspace.get_custom_function('dynamic').with_parameters(start_time=0.0, final_time=20.0)\n",
    "model = workspace.get_model(model_name)"
   ]
  },
  {
   "cell_type": "markdown",
   "metadata": {},
   "source": [
    "We use default options, but compiler, runtime and simulation options can be edited if needed."
   ]
  },
  {
   "cell_type": "code",
   "execution_count": null,
   "metadata": {},
   "outputs": [],
   "source": [
    "compiler_options = analysis.get_compiler_options()\n",
    "runtime_options = analysis.get_runtime_options()\n",
    "simulation_options = analysis.get_simulation_options()"
   ]
  },
  {
   "cell_type": "markdown",
   "metadata": {},
   "source": [
    "Experiment definitions are set up using the `.new_experiment_definition()` method from the model object. After this step we are ready to simulate."
   ]
  },
  {
   "cell_type": "code",
   "execution_count": null,
   "metadata": {},
   "outputs": [],
   "source": [
    "experiment_definition = model.new_experiment_definition(analysis, compiler_options=compiler_options, runtime_options=runtime_options, simulation_options=simulation_options)"
   ]
  },
  {
   "cell_type": "markdown",
   "metadata": {},
   "source": [
    "## Run base model and inspect the result\n",
    "\n",
    "The experiment definition we have set up can now be passed to the `execute()` method of the workspace object. This will send a request to the server telling it to execute the declared experiment setup in the workspace related to the workspace object. We use the `wait()` method as the execution will take some time to perform. Once the experiment execution is completed, it will return an Experiment object representing the experiment result. The experiment will compile the model if necessery, i.e. if there is no previously compiled fmu of the same model in the workspace."
   ]
  },
  {
   "cell_type": "markdown",
   "metadata": {},
   "source": [
    "The `wait()` method generates a lot of logging output, which can be suppressed using Python's built in `logging` module (default is INFO)."
   ]
  },
  {
   "cell_type": "code",
   "execution_count": null,
   "metadata": {},
   "outputs": [],
   "source": [
    "import logging\n",
    "\n",
    "logging.getLogger('modelon.impact.client').setLevel(logging.INFO)"
   ]
  },
  {
   "cell_type": "code",
   "execution_count": null,
   "metadata": {
    "scrolled": true
   },
   "outputs": [],
   "source": [
    "exp = workspace.execute(experiment_definition).wait()"
   ]
  },
  {
   "cell_type": "markdown",
   "metadata": {},
   "source": [
    "Experiments are divided into cases. For the previous definition we only have one case. We can inspect the results for a specific case by calling the Experiment object's `get_trajectories()` method and using matplotlib to do the actual plotting. "
   ]
  },
  {
   "cell_type": "code",
   "execution_count": null,
   "metadata": {},
   "outputs": [],
   "source": [
    "import matplotlib.pyplot as plt\n",
    "%matplotlib inline\n",
    "\n",
    "plt.figure(1)\n",
    "case = exp.get_case('case_1')\n",
    "res = case.get_trajectories()\n",
    "plt.plot(res['time'], res['chassis.summary_v_x'], label='chassis.v_x - orig')\n",
    "plt.legend()\n",
    "plt.show()\n",
    "plt.close(1)"
   ]
  },
  {
   "cell_type": "markdown",
   "metadata": {},
   "source": [
    "## Redeclare the wheel model\n",
    " \n",
    "Currently there is no direct support to redeclare classes or components from MIC. However it is possible to achieve the same result by adding the redeclaring modifier directly to the class name.\n",
    " \n",
    "We will achieve the redeclaration of the wheel class by using this method."
   ]
  },
  {
   "cell_type": "code",
   "execution_count": null,
   "metadata": {},
   "outputs": [],
   "source": [
    "redeclare_string = \"(chassis(redeclare model Wheel = .Perseverance.Wheel_2))\"\n",
    "model_name_redeclare = model_name + redeclare_string\n",
    "model_redeclare = workspace.get_model(model_name_redeclare)"
   ]
  },
  {
   "cell_type": "markdown",
   "metadata": {},
   "source": [
    "Next, we need to create an experiment_definition similiar to how we did it earlier, using the same analysis and options."
   ]
  },
  {
   "cell_type": "code",
   "execution_count": null,
   "metadata": {},
   "outputs": [],
   "source": [
    "experiment_definition_redeclare = model_redeclare.new_experiment_definition(analysis, compiler_options=compiler_options, runtime_options=runtime_options, simulation_options=simulation_options)"
   ]
  },
  {
   "cell_type": "markdown",
   "metadata": {},
   "source": [
    "Finally we can execute the experiment..."
   ]
  },
  {
   "cell_type": "code",
   "execution_count": null,
   "metadata": {},
   "outputs": [],
   "source": [
    "exp_redeclare = workspace.execute(experiment_definition_redeclare).wait()"
   ]
  },
  {
   "cell_type": "markdown",
   "metadata": {},
   "source": [
    "... and compare the results side by side."
   ]
  },
  {
   "cell_type": "code",
   "execution_count": null,
   "metadata": {},
   "outputs": [],
   "source": [
    "import matplotlib.pyplot as plt\n",
    "%matplotlib inline\n",
    "\n",
    "plt.figure(1)\n",
    "case_redeclare = exp_redeclare.get_case('case_1')\n",
    "res_redeclare = case_redeclare.get_trajectories()\n",
    "plt.plot(res['time'], res['chassis.summary_v_x'], label='chassis.v_x - orig')\n",
    "plt.plot(res_redeclare['time'], res_redeclare['chassis.summary_v_x'], label='chassis.v_x - redeclared')\n",
    "plt.legend()\n",
    "plt.show()\n",
    "plt.close(1)"
   ]
  },
  {
   "cell_type": "markdown",
   "metadata": {},
   "source": [
    "## Upload external .mo file with wheel model\n",
    "\n",
    "In case the intended model to be used for redeclaration does not sit inside your workspace, it is possible to upload it as an external file."
   ]
  },
  {
   "cell_type": "code",
   "execution_count": null,
   "metadata": {},
   "outputs": [],
   "source": [
    "import os\n",
    "from modelon.impact.client.sal.exceptions import HTTPError\n",
    "\n",
    "file_folder_path = os.getcwd()\n",
    "file_name = 'Wheel_3.mo'\n",
    "file_path = os.path.join(file_folder_path, file_name)\n",
    "\n",
    "try:\n",
    "    workspace.upload_model_library(file_path)\n",
    "except HTTPError as e:\n",
    "    print(f\"HTTPErrror: {e}\")"
   ]
  },
  {
   "cell_type": "markdown",
   "metadata": {},
   "source": [
    "## Redeclare model to use this for redeclaration\n",
    "\n",
    "Once uploaded, we can use this model in the vehicle by redeclaring the wheel model. The model search path will be the same as in the uploaded library/model. If you use the included model file, it is simply `Wheel_3`."
   ]
  },
  {
   "cell_type": "code",
   "execution_count": null,
   "metadata": {},
   "outputs": [],
   "source": [
    "upload_redeclare_string = \"(chassis(redeclare model Wheel = Wheel_3))\"\n",
    "model_name_upload_redeclare = model_name + upload_redeclare_string\n",
    "model_upload_redeclare = workspace.get_model(model_name_upload_redeclare)"
   ]
  },
  {
   "cell_type": "markdown",
   "metadata": {},
   "source": [
    "## Run again\n",
    "\n",
    "To run the model again, we need to create a new experiment definition based on the new model."
   ]
  },
  {
   "cell_type": "code",
   "execution_count": null,
   "metadata": {},
   "outputs": [],
   "source": [
    "experiment_definition_upload_redeclare = model_upload_redeclare.new_experiment_definition(analysis, compiler_options=compiler_options, runtime_options=runtime_options, simulation_options=simulation_options)"
   ]
  },
  {
   "cell_type": "markdown",
   "metadata": {},
   "source": [
    "And execute it in the selected workspace."
   ]
  },
  {
   "cell_type": "code",
   "execution_count": null,
   "metadata": {
    "scrolled": true
   },
   "outputs": [],
   "source": [
    "exp_upload_redeclare = workspace.execute(experiment_definition_upload_redeclare).wait()"
   ]
  },
  {
   "cell_type": "markdown",
   "metadata": {},
   "source": [
    "For the curious modeller we can plot the result against the original result."
   ]
  },
  {
   "cell_type": "code",
   "execution_count": null,
   "metadata": {},
   "outputs": [],
   "source": [
    "import matplotlib.pyplot as plt\n",
    "%matplotlib inline\n",
    "\n",
    "plt.figure(1)\n",
    "case_upload_redeclare = exp_upload_redeclare.get_case('case_1')\n",
    "res_upload_redeclare = case_upload_redeclare.get_trajectories()\n",
    "plt.plot(res['time'], res['chassis.summary_v_x'], label='chassis.v_x - orig')\n",
    "plt.plot(res_upload_redeclare['time'], res_upload_redeclare['chassis.summary_v_x'], label='chassis.v_x - uploaded wheel')\n",
    "plt.legend()\n",
    "plt.show()\n",
    "plt.close(1)"
   ]
  },
  {
   "cell_type": "markdown",
   "metadata": {},
   "source": [
    "## More info\n",
    "\n",
    "For more detailed information on the Modelon-impact-client library please look at the offical documentation page:\n",
    "\n",
    "https://modelon-impact-client.readthedocs.io/en/latest/"
   ]
  },
  {
   "cell_type": "markdown",
   "metadata": {},
   "source": [
    "Copyright (C) 2022 [Modelon](http://www.modelon.com/)"
   ]
  },
  {
   "cell_type": "markdown",
   "metadata": {},
   "source": [
    "<img src=\"data:image/png;base64,iVBORw0KGgoAAAANSUhEUgAABL0AAAAJCAMAAAGXjJ51AAAAAXNSR0IArs4c6QAAAARnQU1BAACxjwv8YQUAAABdUExURfWEAPmUAOl1AOxtAOx+APy/AP+pAOVyAOxlAONtAOZtAOthAO+HAP+jAP/MAPWDAPqZAOhxAOt+AOt/AO1uAP7EAP+mAOVwAOtjAONtAOVtAOphAO+GAP+jAP/MACmLVuoAAAAZdFJOU56epKSkpKSvr7+/v7+/v8PDz8/Pz8/P4+OMRV/xAAAACXBIWXMAAA3+AAAN/gEmzVBtAAABvUlEQVRYR+3Y11bDMAyA4QBllb2hBN7/MYl7/rQeiSxjXeq7jFcsq8pxh6/CeMCDyU9hl3ukYfK94Bd0CWjZY8Wj4bpwe8CDyV1hmzuhYXKz4B50CWjZY8WjMmK8ccATVcB2NAREIUHA3ukS0BKwYKSMGG8c8EQVsC0NAVFIELALugS0BCwYWcixAntI0RYjECLCK4mSNUJoqziZWXxCETrn2JvEMGC8i4iYiOiaYUtVBGrG6Bydc+xN4PGKsTfBQm0t8NtN0Rbh9y+iqojomqGkVFGRZozO0TnH3gSa/FIg+goMkJEF3cjYXssldRmZaobfyYqV+ryCKZU4sD6eXwqeX/9mk18fzFb3wgjRM/Ho9UR+9GI6jQcOx8obibSCVXU+mVPnlRPr4umlwHQanl4JTy8FptPw9Ep4eikwnYanV0Jz16675CZat2GEaMONuNcpt/deTKcxcGu3cs5/BitYVeeKOXXOOLEuRldHE/oaqKeqlipWJdWKVWk20nK9bmD9NbBW+brI2i7+Tdq+VG1MvmsmvHppefUSefVq59Wrk1cvLa9eIq9e7bx6dfLqpeXVS+TVq51Xry7j+AfLrkHOE/LvIgAAAABJRU5ErkJggg==\">"
   ]
  }
 ],
 "metadata": {
  "kernelspec": {
   "display_name": "Python 3 (ipykernel)",
   "language": "python",
   "name": "python3"
  },
  "language_info": {
   "codemirror_mode": {
    "name": "ipython",
    "version": 3
   },
   "file_extension": ".py",
   "mimetype": "text/x-python",
   "name": "python",
   "nbconvert_exporter": "python",
   "pygments_lexer": "ipython3",
   "version": "3.9.5"
  }
 },
 "nbformat": 4,
 "nbformat_minor": 4
}
