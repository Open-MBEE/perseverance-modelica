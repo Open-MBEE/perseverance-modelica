{
 "cells": [
  {
   "cell_type": "markdown",
   "id": "806d35f3-4e06-429d-8cbb-323f6d6fc7b0",
   "metadata": {},
   "source": [
    "# Basic simulation with Impact Python Client"
   ]
  },
  {
   "cell_type": "code",
   "execution_count": 2,
   "id": "ac9e54cf-a979-4976-89c5-1a0b43151504",
   "metadata": {},
   "outputs": [],
   "source": [
    "from modelon.impact.client import Range,Choices\n",
    "\n",
    "from sys import stdout\n",
    "import numpy as np\n",
    "from numpy import pi\n",
    "import matplotlib.pyplot as plt\n",
    "\n",
    "import scipy.optimize as optimize\n",
    "\n",
    "%matplotlib inline"
   ]
  },
  {
   "cell_type": "markdown",
   "id": "7a19d9ed-6808-425d-afe5-0e71dc6a5099",
   "metadata": {},
   "source": [
    "#### Connect to Modelon Impact ####"
   ]
  },
  {
   "cell_type": "code",
   "execution_count": 3,
   "id": "536e4102-e804-4ee9-a46d-515b4f90a80e",
   "metadata": {},
   "outputs": [
    {
     "name": "stderr",
     "output_type": "stream",
     "text": [
      "No Modelon Impact API key could be found, will log in as anonymous user. Permissions may be limited\n"
     ]
    }
   ],
   "source": [
    "from modelon.impact.client import Client\n",
    "client = Client(url=\"http://localhost:8080/\",interactive=False)\n",
    "\n",
    "# Set up the workspace\n",
    "workspace = client.get_workspace(\"MarsRovers1\")\n",
    "\n",
    "# Prepare a dynamic simulation\n",
    "dynamic = workspace.get_custom_function('dynamic')"
   ]
  },
  {
   "cell_type": "markdown",
   "id": "a5bb88c9-5c78-4b00-bccc-1d123ef807fc",
   "metadata": {},
   "source": [
    "#### Get model and run experiment ####"
   ]
  },
  {
   "cell_type": "code",
   "execution_count": 6,
   "id": "ce0edee5-8899-4d80-80d7-929c6159ade9",
   "metadata": {},
   "outputs": [],
   "source": [
    "model = workspace.get_model(\"Perseverance.Experiments.DrivingFlat\")\n",
    "\n",
    "experiment_definition = model.new_experiment_definition(dynamic.with_parameters(start_time=0.0, final_time=10.0))\n",
    "\n",
    "experiment = workspace.execute(experiment_definition).wait()"
   ]
  },
  {
   "cell_type": "markdown",
   "id": "aa619fb0-9403-488a-a1e4-a7ff8cc64c11",
   "metadata": {},
   "source": [
    "#### Plot signals ####"
   ]
  },
  {
   "cell_type": "code",
   "execution_count": 11,
   "id": "962527f1-7dd2-48e5-a5cb-06e0b3120a21",
   "metadata": {},
   "outputs": [
    {
     "data": {
      "application/vnd.jupyter.widget-view+json": {
       "model_id": "7209617de08543a585125b70b930583d",
       "version_major": 2,
       "version_minor": 0
      },
      "text/html": [
       "\n",
       "            <div style=\"display: inline-block;\">\n",
       "                <div class=\"jupyter-widgets widget-label\" style=\"text-align: center;\">\n",
       "                    Figure\n",
       "                </div>\n",
       "                <img src='data:image/png;base64,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' width=432.0/>\n",
       "            </div>\n",
       "        "
      ],
      "text/plain": [
       "Canvas(toolbar=Toolbar(toolitems=[('Home', 'Reset original view', 'home', 'home'), ('Back', 'Back to previous …"
      ]
     },
     "metadata": {},
     "output_type": "display_data"
    }
   ],
   "source": [
    "import matplotlib.pyplot as plt\n",
    "%matplotlib widget\n",
    "\n",
    "plt.figure(1)\n",
    "plt.clf()\n",
    "plt.title('Wheel speeds')\n",
    "for case in experiment.get_cases():\n",
    "    if case.is_successful():\n",
    "        result = case.get_trajectories()\n",
    "        plt.plot(result['time'], result['speedSource.y'])\n",
    "        plt.plot(result['time'], result['chassis.wheel_1.summary_w'])\n",
    "        plt.plot(result['time'], result['chassis.wheel_2.summary_w'])\n",
    "        plt.plot(result['time'], result['chassis.wheel_3.summary_w'])\n",
    "        plt.plot(result['time'], result['chassis.wheel_4.summary_w'])\n",
    "        plt.plot(result['time'], result['chassis.wheel_5.summary_w'])\n",
    "        plt.plot(result['time'], result['chassis.wheel_6.summary_w'])\n",
    "plt.legend(['reference speed','front left','front right','mid left','mid right','rear left','rear right'])\n",
    "plt.grid()\n",
    "plt.show()"
   ]
  },
  {
   "cell_type": "code",
   "execution_count": null,
   "id": "eb87e93c-d2ab-4cc9-a9a2-5faeda7cc404",
   "metadata": {},
   "outputs": [],
   "source": []
  },
  {
   "cell_type": "code",
   "execution_count": null,
   "id": "5a53dd77-c43b-4057-8e79-774e47b08f7c",
   "metadata": {},
   "outputs": [],
   "source": []
  }
 ],
 "metadata": {
  "kernelspec": {
   "display_name": "OCT",
   "language": "python",
   "name": "oct"
  },
  "language_info": {
   "codemirror_mode": {
    "name": "ipython",
    "version": 3
   },
   "file_extension": ".py",
   "mimetype": "text/x-python",
   "name": "python",
   "nbconvert_exporter": "python",
   "pygments_lexer": "ipython3",
   "version": "3.9.5"
  }
 },
 "nbformat": 4,
 "nbformat_minor": 5
}
